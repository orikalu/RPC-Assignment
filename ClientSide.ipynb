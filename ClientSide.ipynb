{
 "cells": [
  {
   "cell_type": "code",
   "execution_count": null,
   "id": "4f40bd20-28bb-49e4-98a0-4c2cf2875704",
   "metadata": {},
   "outputs": [
    {
     "name": "stdout",
     "output_type": "stream",
     "text": [
      "1. Add note\n",
      "2. Get notes by topic\n",
      "3. Search Wikipedia\n",
      "4. Exit\n"
     ]
    },
    {
     "name": "stdin",
     "output_type": "stream",
     "text": [
      "Enter choice:  1\n",
      "Enter topic:  FGC\n",
      "Enter note text:  Federal Government College\n",
      "Enter timestamp:  2024-03-10 03:00:00\n"
     ]
    },
    {
     "name": "stdout",
     "output_type": "stream",
     "text": [
      "Error: <class 'Exception'>:method \"process_client_input\" is not supported\n",
      "1. Add note\n",
      "2. Get notes by topic\n",
      "3. Search Wikipedia\n",
      "4. Exit\n"
     ]
    }
   ],
   "source": [
    "from xmlrpc.client import ServerProxy, Fault\n",
    "import xml.etree.ElementTree as ET\n",
    "\n",
    "def add_note(server, topic, text, timestamp):\n",
    "    try:\n",
    "        result = server.process_client_input(topic, text, timestamp)\n",
    "        print(result)\n",
    "    except Fault as e:\n",
    "        print(f\"Error: {e.faultString}\")\n",
    "\n",
    "def get_notes(server, topic):\n",
    "    try:\n",
    "        notes = server.get_xml_contents(topic)\n",
    "        for note in notes:\n",
    "            print(f\"Note: {note['data']}, Timestamp: {note['timestamp']}\")\n",
    "    except Fault as e:\n",
    "        print(f\"Error: {e.faultString}\")\n",
    "\n",
    "def search_wikipedia(server, search_term):\n",
    "    try:\n",
    "        wikipedia_info = server.query_wikipedia(search_term)\n",
    "        print(wikipedia_info)\n",
    "    except Fault as e:\n",
    "        print(f\"Error: {e.faultString}\")\n",
    "\n",
    "def main():\n",
    "    server = ServerProxy(\"http://localhost:8000/RPC2\")\n",
    "\n",
    "    while True:\n",
    "        print(\"1. Add note\\n2. Get notes by topic\\n3. Search Wikipedia\\n4. Exit\")\n",
    "        choice = input(\"Enter choice: \")\n",
    "\n",
    "        if choice == \"1\":\n",
    "            topic = input(\"Enter topic: \")\n",
    "            text = input(\"Enter note text: \")\n",
    "            timestamp = input(\"Enter timestamp: \")\n",
    "            add_note(server, topic, text, timestamp)\n",
    "\n",
    "        elif choice == \"2\":\n",
    "            topic = input(\"Enter topic to retrieve notes: \")\n",
    "            get_notes(server, topic)\n",
    "\n",
    "        elif choice == \"3\":\n",
    "            search_term = input(\"Enter search term for Wikipedia: \")\n",
    "            search_wikipedia(server, search_term)\n",
    "\n",
    "        elif choice == \"4\":\n",
    "            break\n",
    "\n",
    "        else:\n",
    "            print(\"Invalid choice. Please try again.\")\n",
    "\n",
    "if __name__ == \"__main__\":\n",
    "    main()"
   ]
  },
  {
   "cell_type": "code",
   "execution_count": null,
   "id": "c37601d1-abae-4471-a206-6fa6c5fc0fe4",
   "metadata": {},
   "outputs": [],
   "source": []
  }
 ],
 "metadata": {
  "kernelspec": {
   "display_name": "Python 3 (ipykernel)",
   "language": "python",
   "name": "python3"
  },
  "language_info": {
   "codemirror_mode": {
    "name": "ipython",
    "version": 3
   },
   "file_extension": ".py",
   "mimetype": "text/x-python",
   "name": "python",
   "nbconvert_exporter": "python",
   "pygments_lexer": "ipython3",
   "version": "3.11.5"
  }
 },
 "nbformat": 4,
 "nbformat_minor": 5
}
